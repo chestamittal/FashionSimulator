{
  "nbformat": 4,
  "nbformat_minor": 0,
  "metadata": {
    "colab": {
      "name": "Untitled2.ipynb",
      "provenance": [],
      "collapsed_sections": []
    },
    "kernelspec": {
      "name": "python3",
      "display_name": "Python 3"
    },
    "accelerator": "GPU"
  },
  "cells": [
    {
      "cell_type": "code",
      "metadata": {
        "id": "FfdPySZcyybF",
        "colab_type": "code",
        "colab": {}
      },
      "source": [
        "# !pip install -q imageio"
      ],
      "execution_count": null,
      "outputs": []
    },
    {
      "cell_type": "code",
      "metadata": {
        "id": "3T-XvXB1y1ZC",
        "colab_type": "code",
        "colab": {}
      },
      "source": [
        "import tensorflow as tf\n",
        "import glob\n",
        "import imageio\n",
        "import matplotlib.pyplot as plt\n",
        "import tensorflow_datasets as tfds\n",
        "import numpy as np\n",
        "import os\n",
        "import PIL\n",
        "import pandas as pd\n",
        "from tensorflow.keras import layers\n",
        "import time\n",
        "from keras.datasets.fashion_mnist import load_data\n",
        "\n",
        "from IPython import display"
      ],
      "execution_count": null,
      "outputs": []
    },
    {
      "cell_type": "code",
      "metadata": {
        "id": "UNWBWLmjzqqH",
        "colab_type": "code",
        "colab": {}
      },
      "source": [
        "(train_images, train_labels), (_, _) = load_data()"
      ],
      "execution_count": null,
      "outputs": []
    },
    {
      "cell_type": "code",
      "metadata": {
        "id": "4XQxR9tyz_Hn",
        "colab_type": "code",
        "colab": {}
      },
      "source": [
        "train_images = train_images.reshape(train_images.shape[0],28*28).astype('float32')\n",
        "train_labels=train_labels.astype('float32')\n",
        "train_images=train_images/255.0\n",
        "label=np.zeros((train_images.shape[0],10))\n",
        "for i in range(train_images.shape[0]):\n",
        "  label[i,int(train_labels[i])]=1\n",
        "train_images=np.concatenate((train_images,label),axis=1)\n",
        "label[0]"
      ],
      "execution_count": null,
      "outputs": []
    },
    {
      "cell_type": "code",
      "metadata": {
        "id": "uR3vK3Rj0hcU",
        "colab_type": "code",
        "colab": {}
      },
      "source": [
        "BUFFER_SIZE=60000\n",
        "BATCH_SIZE=256"
      ],
      "execution_count": null,
      "outputs": []
    },
    {
      "cell_type": "code",
      "metadata": {
        "id": "SRfGeyWA07Se",
        "colab_type": "code",
        "colab": {}
      },
      "source": [
        "train_dataset=tf.data.Dataset.from_tensor_slices(train_images).shuffle(BUFFER_SIZE).batch(BATCH_SIZE)"
      ],
      "execution_count": null,
      "outputs": []
    },
    {
      "cell_type": "code",
      "metadata": {
        "id": "MAEe1o2edrmh",
        "colab_type": "code",
        "colab": {}
      },
      "source": [
        "noise_dim=100\n",
        "Y_dimension=10\n",
        "input_dimension=noise_dim+Y_dimension"
      ],
      "execution_count": null,
      "outputs": []
    },
    {
      "cell_type": "code",
      "metadata": {
        "id": "8ZlDBe7L1PBz",
        "colab_type": "code",
        "colab": {}
      },
      "source": [
        "def make_generator_model():\n",
        "  model=tf.keras.Sequential()\n",
        "  \n",
        "  model.add(layers.Dense(7*7*256, use_bias=False, input_shape=(input_dimension,)))\n",
        "  model.add(layers.BatchNormalization())\n",
        "  model.add(layers.LeakyReLU())\n",
        "\n",
        "  model.add(layers.Reshape((7,7,256)))\n",
        "  assert model.output_shape==(None,7,7,256)     #NOne is for Batch Size\n",
        "\n",
        "  model.add(layers.Conv2DTranspose(128,(5,5),strides=(1,1),use_bias=False,padding='same'))\n",
        "  assert model.output_shape==(None,7,7,128)\n",
        "  model.add(layers.BatchNormalization())\n",
        "  model.add(layers.LeakyReLU())\n",
        "\n",
        "  model.add(layers.Conv2DTranspose(64,(5,5),strides=(2,2),use_bias=False,padding='same'))\n",
        "  assert model.output_shape==(None,14,14,64)\n",
        "  model.add(layers.BatchNormalization())\n",
        "  model.add(layers.LeakyReLU())\n",
        "\n",
        "  model.add(layers.Conv2DTranspose(1,(5,5),strides=(2,2),padding='same',use_bias=False,activation='tanh'))\n",
        "  assert model.output_shape==(None,28,28,1)\n",
        "\n",
        "  return model"
      ],
      "execution_count": null,
      "outputs": []
    },
    {
      "cell_type": "code",
      "metadata": {
        "id": "5VwI_73x4K4D",
        "colab_type": "code",
        "colab": {}
      },
      "source": [
        "def make_descriminator_model():\n",
        "  model=tf.keras.Sequential()\n",
        "\n",
        "  model.add(layers.Dense(128, use_bias=True,input_shape=(28*28+10,)))\n",
        "  model.add(layers.BatchNormalization())\n",
        "  model.add(layers.LeakyReLU())\n",
        "\n",
        "  model.add(layers.Reshape((2,2,32)))\n",
        "  assert model.output_shape==(None,2,2,32)\n",
        "\n",
        "  model.add(layers.Conv2D(64,(5,5),strides=(2,2),padding='same'))\n",
        "  model.add(layers.LeakyReLU())\n",
        "  model.add(layers.Dropout(0.3))\n",
        "\n",
        "  model.add(layers.Conv2D(128,(5,5),strides=(2,2),padding='same'))\n",
        "  model.add(layers.LeakyReLU())\n",
        "  model.add(layers.Dropout(0.3))\n",
        "\n",
        "  model.add(layers.Flatten())\n",
        "  model.add(layers.Dense(1))\n",
        "\n",
        "  return model"
      ],
      "execution_count": null,
      "outputs": []
    },
    {
      "cell_type": "code",
      "metadata": {
        "id": "k4QDilwv5j9r",
        "colab_type": "code",
        "colab": {}
      },
      "source": [
        "generator=make_generator_model()\n",
        "noise=tf.random.normal([BATCH_SIZE,noise_dim])\n",
        "\n",
        "for i in train_dataset:\n",
        "  X=i\n",
        "  break\n",
        "y=X[:,-10:]\n",
        "noise=np.concatenate((noise,y),axis=1)\n",
        "generated_image=generator(noise,training=False)\n",
        "plt.imshow(generated_image[0,:,:,0],cmap='gray')\n",
        "print(y[0])"
      ],
      "execution_count": null,
      "outputs": []
    },
    {
      "cell_type": "code",
      "metadata": {
        "id": "g17rgUERgy-Y",
        "colab_type": "code",
        "colab": {}
      },
      "source": [
        "generated_image=tf.reshape(generated_image,[BATCH_SIZE,28*28])\n",
        "generated_image=np.concatenate([generated_image,y],axis=-1)\n",
        "generated_image.shape"
      ],
      "execution_count": null,
      "outputs": []
    },
    {
      "cell_type": "code",
      "metadata": {
        "id": "dwHdcN5y57g1",
        "colab_type": "code",
        "colab": {}
      },
      "source": [
        "discriminator=make_descriminator_model()\n",
        "decision=discriminator(generated_image)\n",
        "print(decision)"
      ],
      "execution_count": null,
      "outputs": []
    },
    {
      "cell_type": "code",
      "metadata": {
        "id": "XYaxe2JF6uSB",
        "colab_type": "code",
        "colab": {}
      },
      "source": [
        "cross_entropy=tf.losses.BinaryCrossentropy(from_logits=True)"
      ],
      "execution_count": null,
      "outputs": []
    },
    {
      "cell_type": "code",
      "metadata": {
        "id": "r2PTnXgr66Ss",
        "colab_type": "code",
        "colab": {}
      },
      "source": [
        "def discriminator_loss(real_output,fake_output):\n",
        "  real_loss=cross_entropy(tf.ones_like(real_output),real_output)\n",
        "  fake_loss=cross_entropy(tf.zeros_like(fake_output),fake_output)\n",
        "  \n",
        "  return fake_loss+real_loss"
      ],
      "execution_count": null,
      "outputs": []
    },
    {
      "cell_type": "code",
      "metadata": {
        "id": "_5oaTy9u7YTT",
        "colab_type": "code",
        "colab": {}
      },
      "source": [
        "def generator_loss(fake_output):\n",
        "  return cross_entropy(tf.ones_like(fake_output),fake_output)"
      ],
      "execution_count": null,
      "outputs": []
    },
    {
      "cell_type": "code",
      "metadata": {
        "id": "fuwk8wHH7nMv",
        "colab_type": "code",
        "colab": {}
      },
      "source": [
        "generator_optimizer=tf.keras.optimizers.Adam(1e-4)\n",
        "discriminator_optimizer=tf.keras.optimizers.Adam(1e-4)"
      ],
      "execution_count": null,
      "outputs": []
    },
    {
      "cell_type": "code",
      "metadata": {
        "id": "zyEDK0dC7-vS",
        "colab_type": "code",
        "colab": {}
      },
      "source": [
        "checkpoint_dir='./training_checkpoint'\n",
        "checkpoint_prefix=os.path.join(checkpoint_dir,\"ckpt\")\n",
        "checkpoint = tf.train.Checkpoint(generator_optimizer=generator_optimizer,\n",
        "                                 discriminator_optimizer=discriminator_optimizer,\n",
        "                                 generator=generator,\n",
        "                                 discriminator=discriminator)"
      ],
      "execution_count": null,
      "outputs": []
    },
    {
      "cell_type": "code",
      "metadata": {
        "id": "vBGZaJm88b9M",
        "colab_type": "code",
        "colab": {}
      },
      "source": [
        "EPOCHS=500\n",
        "num_examples_to_generate=16\n",
        "\n",
        "seed=tf.random.normal([num_examples_to_generate,noise_dim])"
      ],
      "execution_count": null,
      "outputs": []
    },
    {
      "cell_type": "code",
      "metadata": {
        "id": "zc0RFCJJ8-H2",
        "colab_type": "code",
        "colab": {}
      },
      "source": [
        "@tf.function\n",
        "def train_step(images):\n",
        "  noise=tf.random.normal([images.shape[0],noise_dim])\n",
        "  y=images[:,-10:]\n",
        "  y=tf.cast(y,dtype='float32')\n",
        "  noise=tf.concat([noise,y],axis=1)\n",
        "\n",
        "  with tf.GradientTape() as gen_tape,tf.GradientTape() as disc_tape:\n",
        "    generated_images=generator(noise,training=True)\n",
        "\n",
        "    generated_images=tf.reshape(generated_images,[images.shape[0],28*28])\n",
        "    generated_images=tf.concat([generated_images,y],axis=-1)\n",
        "\n",
        "    real_output=discriminator(images,training=True)\n",
        "    fake_output=discriminator(generated_images,training=True)\n",
        "\n",
        "    gen_loss=generator_loss(fake_output)\n",
        "    disc_loss=discriminator_loss(real_output,fake_output)\n",
        "\n",
        "  gradients_generator = gen_tape.gradient(gen_loss, generator.trainable_variables)\n",
        "  gradient_discriminator=disc_tape.gradient(disc_loss,discriminator.trainable_variables)\n",
        "\n",
        "  generator_optimizer.apply_gradients(zip(gradients_generator,generator.trainable_variables))\n",
        "  discriminator_optimizer.apply_gradients(zip(gradient_discriminator,discriminator.trainable_variables))"
      ],
      "execution_count": null,
      "outputs": []
    },
    {
      "cell_type": "code",
      "metadata": {
        "id": "128ShAQgA9sT",
        "colab_type": "code",
        "colab": {}
      },
      "source": [
        "def generate_and_save(model,epoch,test_input):\n",
        "  prediction=model(test_input,training=False)\n",
        "\n",
        "  plt.figure(figsize=(4,4))\n",
        "  for i in range(prediction.shape[0]):\n",
        "    plt.subplot(4,4,i+1)\n",
        "    plt.imshow(prediction[i,:,:,0]*255,cmap='gray')\n",
        "    plt.axis('off')\n",
        "\n",
        "  if epoch%50==0:\n",
        "    plt.savefig(\"plot at epoch {}.png\".format(epoch))\n",
        "  plt.show()"
      ],
      "execution_count": null,
      "outputs": []
    },
    {
      "cell_type": "code",
      "metadata": {
        "id": "eGvSzcraASpd",
        "colab_type": "code",
        "colab": {}
      },
      "source": [
        "def train(dataset,epochs):\n",
        "  for epoch in range(epochs):\n",
        "    start=time.time()\n",
        "\n",
        "    for image_batch in dataset:\n",
        "      train_step(image_batch)\n",
        "    \n",
        "    # display.clear_output(wait=True)\n",
        "    test_input=np.zeros((seed.shape[0],10))\n",
        "    test_input[:,epoch%10]=1\n",
        "    test_input=np.concatenate((seed,test_input),axis=1)\n",
        "    generate_and_save(generator,epoch+1,test_input)\n",
        "\n",
        "    if((epoch+1)%15==0):\n",
        "      checkpoint.save(file_prefix=checkpoint_prefix)\n",
        "    \n",
        "    print(\"Time for epoch {} is {}\".format(epoch,time.time()-start))\n",
        "  \n",
        "  # display.clear_output(wait=True)\n",
        "  generate_and_save(generator,epochs,seed)"
      ],
      "execution_count": null,
      "outputs": []
    },
    {
      "cell_type": "code",
      "metadata": {
        "id": "u52b9ZltCymT",
        "colab_type": "code",
        "colab": {}
      },
      "source": [
        "train(train_dataset,EPOCHS)"
      ],
      "execution_count": null,
      "outputs": []
    },
    {
      "cell_type": "code",
      "metadata": {
        "id": "5JnuDorHC9YF",
        "colab_type": "code",
        "colab": {}
      },
      "source": [
        "# checkpoint.restore(tf.train.latest_checkpoint(checkpoint_dir))"
      ],
      "execution_count": null,
      "outputs": []
    },
    {
      "cell_type": "code",
      "metadata": {
        "id": "bia83TAl3YMY",
        "colab_type": "code",
        "colab": {}
      },
      "source": [
        "def display_image(epoch):\n",
        "  return PIL.Image.open(\"plot at epoch {}.png\".format(450))"
      ],
      "execution_count": null,
      "outputs": []
    },
    {
      "cell_type": "code",
      "metadata": {
        "id": "nsvO2A183why",
        "colab_type": "code",
        "colab": {}
      },
      "source": [
        "display_image(EPOCHS)"
      ],
      "execution_count": null,
      "outputs": []
    },
    {
      "cell_type": "code",
      "metadata": {
        "id": "p7fAsc7CLlyW",
        "colab_type": "code",
        "colab": {}
      },
      "source": [
        "export_dir='Fashion mnist GAN'\n",
        "tf.saved_model.save(generator,export_dir)"
      ],
      "execution_count": null,
      "outputs": []
    },
    {
      "cell_type": "code",
      "metadata": {
        "id": "r7VcE1E1Lz1-",
        "colab_type": "code",
        "colab": {}
      },
      "source": [
        "converter=tf.lite.TFLiteConverter.from_saved_model(export_dir)\n",
        "tflite_model=converter.convert()\n",
        "\n",
        "with open('fashion_mnist_gan.tflite','wb') as f:\n",
        "  f.write(tflite_model)"
      ],
      "execution_count": null,
      "outputs": []
    },
    {
      "cell_type": "code",
      "metadata": {
        "id": "hSQwSfSJMbtq",
        "colab_type": "code",
        "colab": {}
      },
      "source": [
        "from google.colab import files\n",
        "try:\n",
        "  files.download('fashion_mnist_gan.tflite')\n",
        "except ImportError:\n",
        "  pass"
      ],
      "execution_count": null,
      "outputs": []
    },
    {
      "cell_type": "code",
      "metadata": {
        "id": "G1b67L0LL1mo",
        "colab_type": "code",
        "colab": {}
      },
      "source": [
        "input=tf.random.normal([10,100])\n",
        "label=np.zeros((10,10))\n",
        "for i in range(10):\n",
        "  label[i,i]=1\n",
        "input=tf.concat([input,label],axis=1)\n",
        "prediction=generator.predict(input)\n",
        "\n",
        "plt.figure(figsize=(4,4))\n",
        "for i in range(prediction.shape[0]):\n",
        "  plt.subplot(4,4,i+1)\n",
        "  plt.imshow(prediction[i,:,:,0]*255,cmap='gray')\n",
        "  plt.axis('off')\n",
        "plt.show()"
      ],
      "execution_count": null,
      "outputs": []
    },
    {
      "cell_type": "code",
      "metadata": {
        "id": "cI8RtyqtdVwH",
        "colab_type": "code",
        "colab": {}
      },
      "source": [
        "interpreter=tf.lite.Interpreter(model_path='fashion_mnist_gan.tflite')\n",
        "interpreter.allocate_tensors()\n",
        "\n",
        "input_details = interpreter.get_input_details()\n",
        "output_details = interpreter.get_output_details()\n",
        "\n",
        "# Test model on random input data.\n",
        "input_shape = input_details[0]['shape']\n",
        "input_data = input[0]\n",
        "input_data=tf.reshape(input[0],[1,110])\n",
        "interpreter.set_tensor(input_details[0]['index'], input_data)"
      ],
      "execution_count": null,
      "outputs": []
    },
    {
      "cell_type": "code",
      "metadata": {
        "id": "7XlQZyRkuvez",
        "colab_type": "code",
        "colab": {}
      },
      "source": [
        "interpreter.invoke()\n",
        "output_data = interpreter.get_tensor(output_details[0]['index'])"
      ],
      "execution_count": null,
      "outputs": []
    },
    {
      "cell_type": "code",
      "metadata": {
        "id": "vRUbdcqevWGN",
        "colab_type": "code",
        "colab": {}
      },
      "source": [
        "plt.figure(figsize=(4,4))\n",
        "plt.subplot(4,4,1)\n",
        "plt.imshow(output_data[0,:,:,0]*255,cmap='gray')\n",
        "plt.axis('off')"
      ],
      "execution_count": null,
      "outputs": []
    }
  ]
}